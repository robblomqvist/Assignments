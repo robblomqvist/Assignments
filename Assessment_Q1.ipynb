{
 "cells": [
  {
   "cell_type": "markdown",
   "id": "f3835b3a",
   "metadata": {},
   "source": [
    "### Antarctica Asset Management Quant Challenge Question 1"
   ]
  },
  {
   "cell_type": "markdown",
   "id": "d6cd76b1",
   "metadata": {},
   "source": [
    "Antarctia is currently looking to hire a quant analyst. Ashil believes that the best way to screen candidates is to look at their prior programming experience via GitHub. Create a GUI which allows a user to enter a GitHub username and file location and contains a button. When the button is pressed, you have an excel file containing the names of all repositories of that GitHub user saved to the file location on the user's PC. DO NOT USE THE GITHUB PYTHON PACKAGE or any other api provided by github in your work."
   ]
  },
  {
   "cell_type": "code",
   "execution_count": 1,
   "id": "6a9a14c3",
   "metadata": {},
   "outputs": [],
   "source": [
    "import tkinter as tk\n",
    "import openpyxl\n",
    "import requests\n",
    "from bs4 import BeautifulSoup\n",
    "\n",
    "def get_github_repositories(username):\n",
    "    url = f\"https://github.com/{username}?tab=repositories\"\n",
    "    response = requests.get(url)\n",
    "    if response.status_code == 200:\n",
    "        soup = BeautifulSoup(response.content, \"html.parser\")\n",
    "        repositories = soup.find_all(\"li\", {\"itemprop\": \"owns\"})\n",
    "        repository_names = [repo.find(\"a\").get_text(strip=True) for repo in repositories]\n",
    "        return repository_names\n",
    "    else:\n",
    "        return None\n",
    "\n",
    "def save_to_excel(file_path, repository_names):\n",
    "    workbook = openpyxl.Workbook()\n",
    "    sheet = workbook.active\n",
    "\n",
    "    for index, name in enumerate(repository_names, start=1):\n",
    "        sheet.cell(row=index, column=1).value = name\n",
    "\n",
    "    workbook.save(file_path)\n",
    "    workbook.close()\n",
    "\n",
    "def button_clicked():\n",
    "\n",
    "    username = entry_username.get()\n",
    "    file_path = entry_file_path.get()\n",
    "\n",
    "    repositories = get_github_repositories(username)\n",
    "    if repositories is not None:\n",
    "        save_to_excel(file_path, repositories)\n",
    "        label_status.config(text=\"Repositories saved successfully!\")\n",
    "    else:\n",
    "        label_status.config(text=\"Failed to retrieve repositories.\")\n",
    "\n",
    "\n",
    "# Create the main window\n",
    "window = tk.Tk()\n",
    "window.title(\"GitHub Repository List\")\n",
    "window.geometry(\"400x200\")\n",
    "\n",
    "# Create and place the username label and entry field\n",
    "label_username = tk.Label(window, text=\"GitHub Username:\")\n",
    "label_username.pack()\n",
    "entry_username = tk.Entry(window)\n",
    "entry_username.pack()\n",
    "\n",
    "# Create and place the file path label and entry field\n",
    "label_file_path = tk.Label(window, text=\"File Path:\")\n",
    "label_file_path.pack()\n",
    "entry_file_path = tk.Entry(window)\n",
    "entry_file_path.pack()\n",
    "\n",
    "# Create and place the button\n",
    "button = tk.Button(window, text=\"Save Repositories\", command=button_clicked)\n",
    "button.pack()\n",
    "\n",
    "# Create and place the status label\n",
    "label_status = tk.Label(window, text=\"\")\n",
    "label_status.pack()\n",
    "\n",
    "# Start the main loop\n",
    "window.mainloop()"
   ]
  },
  {
   "cell_type": "code",
   "execution_count": null,
   "id": "6fa7daed",
   "metadata": {},
   "outputs": [],
   "source": []
  },
  {
   "cell_type": "code",
   "execution_count": null,
   "id": "7dd6e89b",
   "metadata": {},
   "outputs": [],
   "source": []
  }
 ],
 "metadata": {
  "kernelspec": {
   "display_name": "Python 3 (ipykernel)",
   "language": "python",
   "name": "python3"
  },
  "language_info": {
   "codemirror_mode": {
    "name": "ipython",
    "version": 3
   },
   "file_extension": ".py",
   "mimetype": "text/x-python",
   "name": "python",
   "nbconvert_exporter": "python",
   "pygments_lexer": "ipython3",
   "version": "3.9.7"
  }
 },
 "nbformat": 4,
 "nbformat_minor": 5
}
